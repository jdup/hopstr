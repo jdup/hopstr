{
 "metadata": {
  "name": "Untitled1"
 },
 "nbformat": 3,
 "nbformat_minor": 0,
 "worksheets": [
  {
   "cells": [
    {
     "cell_type": "code",
     "collapsed": false,
     "input": [
      "import pandas.io.sql as sql\n",
      "import sqlite3\n",
      "import vincent\n",
      "import vincent.ipynb\n",
      "vincent.ipynb.init_d3()\n",
      "vincent.ipynb.init_vg()\n",
      "\n",
      "db = sqlite3.connect('ingredients.db')\n",
      "hopdf = sql.read_frame('select * from hop where id < 68',db,'name')"
     ],
     "language": "python",
     "metadata": {},
     "outputs": [
      {
       "html": [
        "<script src=\"http://d3js.org/d3.v3.min.js\"></script>"
       ],
       "output_type": "display_data",
       "text": [
        "<IPython.core.display.HTML at 0x104ec62d0>"
       ]
      },
      {
       "html": [
        "<script src=\"http://trifacta.github.com/vega/vega.js\"></script>"
       ],
       "output_type": "display_data",
       "text": [
        "<IPython.core.display.HTML at 0x105089b50>"
       ]
      }
     ],
     "prompt_number": 1
    },
    {
     "cell_type": "code",
     "collapsed": false,
     "input": [
      "hopdf2 = hopdf[['alpha','beta','humulene','caryophyllene','cohumulone','myrcene']]"
     ],
     "language": "python",
     "metadata": {},
     "outputs": [],
     "prompt_number": 2
    },
    {
     "cell_type": "code",
     "collapsed": false,
     "input": [
      "viz1 = vincent.StackedBar(hopdf2.T)\n",
      "viz1.axis_titles(x='Hop Name', y='Percent')\n",
      "viz1.legend(title='Characteristics')\n",
      "viz1.colors(brew='RdYlGn')\n",
      "viz1.name = \"HopStack\""
     ],
     "language": "python",
     "metadata": {},
     "outputs": [],
     "prompt_number": 3
    },
    {
     "cell_type": "code",
     "collapsed": false,
     "input": [
      "vincent.ipynb.display(viz1)"
     ],
     "language": "python",
     "metadata": {},
     "outputs": [
      {
       "output_type": "display_data",
       "text": [
        "<vincent.charts.StackedBar at 0x1050a3350>"
       ]
      }
     ],
     "prompt_number": 4
    },
    {
     "cell_type": "code",
     "collapsed": false,
     "input": [
      "viz1.to_json('viz1.json')"
     ],
     "language": "python",
     "metadata": {},
     "outputs": [],
     "prompt_number": 5
    },
    {
     "cell_type": "code",
     "collapsed": false,
     "input": [
      "# Select only high alpha acid levels\n",
      "hopdf3 = hopdf2[hopdf2['alpha']>10].sort_index(by='alpha',ascending=False)\n",
      "viz2 = vincent.StackedBar(hopdf3.T)\n",
      "viz2.legend(title='Characteristics')\n",
      "viz2.colors(brew='RdYlGn')\n",
      "viz2.to_json('viz2.json')\n",
      "vincent.ipynb.display_vega(viz2)\n"
     ],
     "language": "python",
     "metadata": {},
     "outputs": [
      {
       "html": [
        "<div id=\"vis37381\"></div>"
       ],
       "output_type": "display_data",
       "text": [
        "<IPython.core.display.HTML at 0x10546a250>"
       ]
      }
     ],
     "prompt_number": 20
    },
    {
     "cell_type": "code",
     "collapsed": false,
     "input": [
      "# Select only high myrcene levels\n",
      "hopdf4 = hopdf2[hopdf2['myrcene']>40].sort_index(by='myrcene',ascending=False)"
     ],
     "language": "python",
     "metadata": {},
     "outputs": [],
     "prompt_number": 16
    },
    {
     "cell_type": "code",
     "collapsed": false,
     "input": [],
     "language": "python",
     "metadata": {},
     "outputs": []
    }
   ],
   "metadata": {}
  }
 ]
}
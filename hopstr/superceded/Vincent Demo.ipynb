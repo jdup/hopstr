{
 "metadata": {
  "name": "Vincent Demo"
 },
 "nbformat": 3,
 "nbformat_minor": 0,
 "worksheets": [
  {
   "cells": [
    {
     "cell_type": "code",
     "collapsed": false,
     "input": [
      "import vincent\n",
      "import routes\n",
      "import sqlite3\n",
      "import vincent.ipynb\n",
      "vincent.ipynb.init_d3()\n",
      "vincent.ipynb.init_vg()"
     ],
     "language": "python",
     "metadata": {},
     "outputs": [
      {
       "html": [
        "<script src=\"http://d3js.org/d3.v3.min.js\"></script>"
       ],
       "output_type": "display_data",
       "text": [
        "<IPython.core.display.HTML at 0x105386990>"
       ]
      },
      {
       "html": [
        "<script src=\"http://trifacta.github.com/vega/vega.js\"></script>"
       ],
       "output_type": "display_data",
       "text": [
        "<IPython.core.display.HTML at 0x10536f990>"
       ]
      }
     ],
     "prompt_number": 45
    },
    {
     "cell_type": "code",
     "collapsed": false,
     "input": [
      "db = sqlite3.connect('ingredients.db')"
     ],
     "language": "python",
     "metadata": {},
     "outputs": [],
     "prompt_number": 46
    },
    {
     "cell_type": "code",
     "collapsed": false,
     "input": [
      "cur = db.execute('select name, alpha, beta, myrcene, humulene, cohumulone from HOP where id < 63 order by alpha')\n",
      "hop = [dict(hopname=row[0],alpha=row[1],beta=row[2],myrcene=row[3],humulene=row[4],cohumulone=row[5]) for row in cur.fetchall()]"
     ],
     "language": "python",
     "metadata": {},
     "outputs": [],
     "prompt_number": 47
    },
    {
     "cell_type": "code",
     "collapsed": false,
     "input": [
      "hopnames = [ihop['hopname'] for ihop in hop]\n",
      "alpha = [ihop['alpha'] for ihop in hop]\n",
      "beta = [ihop['beta'] for ihop in hop]\n",
      "myrcene = [ihop['myrcene'] for ihop in hop]\n",
      "\n",
      "    "
     ],
     "language": "python",
     "metadata": {},
     "outputs": [],
     "prompt_number": 48
    },
    {
     "cell_type": "code",
     "collapsed": false,
     "input": [
      "vincent.Line(alpha)"
     ],
     "language": "python",
     "metadata": {},
     "outputs": [
      {
       "output_type": "pyout",
       "prompt_number": 49,
       "text": [
        "<vincent.charts.Line at 0x1053bcf90>"
       ]
      }
     ],
     "prompt_number": 49
    },
    {
     "cell_type": "code",
     "collapsed": false,
     "input": [],
     "language": "python",
     "metadata": {},
     "outputs": [
      {
       "output_type": "pyout",
       "prompt_number": 43,
       "text": [
        "<vincent.charts.Line at 0x10536fe50>"
       ]
      }
     ],
     "prompt_number": 43
    },
    {
     "cell_type": "code",
     "collapsed": false,
     "input": [],
     "language": "python",
     "metadata": {},
     "outputs": []
    }
   ],
   "metadata": {}
  }
 ]
}